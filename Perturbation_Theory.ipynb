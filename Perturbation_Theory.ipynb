{
 "cells": [
  {
   "cell_type": "markdown",
   "id": "950cfe00-acf6-4d4b-94d4-46239bfb1af5",
   "metadata": {},
   "source": [
    "# Perturbation Theory\n",
    "\n",
    "We deal here with the calculation of the second-order corrections to the normal and anomalous Green's functions in the MTI-SC heterostructure.\n",
    "In all that follows, we assume that the Hamiltonian can be written as $H = H_0 + V$, where $H_0 = H_{SC} + H_{MTI}$ is the Hamiltonian for the uncoupled materials and $V$ is the tunneling term.\n",
    "Using interacting picture, we can write a perturbative series and compute the effect of proximity pairing in the MTI due to the superconductor.\n",
    "\n",
    "\n",
    "## **Normal Green's Function**\n",
    "\n",
    "\n",
    "Using interacting picture, the normal MTI Green's function\n",
    "$$\n",
    "\t\\mathcal{G}_{\\sigma\\lambda, \\sigma'\\lambda'}(zt,z't') =\n",
    "\t-i \\left\\langle\n",
    "\t\\hat{T}_t \\hat{\\psi}_{\\sigma \\lambda}(zt) \\hat{\\psi}^\\dagger_{\\sigma' \\lambda'}(z't')\n",
    "\t\\right\\rangle \\,,\n",
    "$$\n",
    "can be written in perturbative series as\n",
    "$$\n",
    "\\begin{split}\n",
    "\t\\mathcal{G}_{\\sigma\\lambda, \\sigma'\\lambda'}(zt,z't') \n",
    "\t=\n",
    "\t\\sum_{n=0}^{+\\infty} \\frac{(-i)^{n+1}}{n!} \\int_{-\\infty}^{+\\infty} dt_1 \\, \\dots \\int_{-\\infty}^{+\\infty} dt_n \\, \n",
    "\t%\n",
    "\t\\frac{\n",
    "\t\\bra{\\phi_0} \\hat{T}_t\n",
    "\t\\check{\\psi}_{\\sigma\\lambda}(zt) \n",
    "\t\\check{V}(t_1) \\dots \\check{V}(t_n)\t\n",
    "\t\\check{\\psi}^\\dagger_{\\sigma'\\lambda'}(z't') \n",
    "\t}\n",
    "\t{\\bra{\\phi_0} S(+\\infty, -\\infty) \\ket{\\phi_0}} \\,.\n",
    "\\end{split}\n",
    "$$\n",
    "Since all the odd-order terms vanishes, the most important correction to the unperturbed Green's function is given by the *second order* one\n",
    "$$\n",
    "\\begin{split}\n",
    "\t\\mathcal{G}^{(2)}_{\\sigma\\lambda, \\sigma'\\lambda'}(zt,z't') \n",
    "\t=&\n",
    "\t\\frac{i}{2} \\int dt_1 \\, \\int dt_2 \\, \n",
    "\t\\left\\langle\n",
    "\t\\hat{T}_t \\check{\\psi}_{\\sigma\\lambda}(zt) \\check{V}(t_1) \\check{V}(t_2) \\check{\\psi}_{\\sigma'\\lambda'}^\\dagger(z't')\n",
    "\t\\right\\rangle_0 = \\\\[5pt]\n",
    "\t%%%\n",
    "\t=&\n",
    "\t\\sum_{ss't} \\sum_{rr'l}\n",
    "\t\\int dt_1 \\, \\int dt_2 \\, \\int dw \\, dw' \\, \\int dv \\, dv' \\,\n",
    "\t\\gamma_{st}^{s'}(w,w') \\gamma_{rl}^{r' \\, \\dagger}(v',v) \\times \\\\[5pt]\n",
    "\t%\n",
    "\t& \\times\n",
    "\t\\Bigl\\{\n",
    "\t\\mathcal{G}^{(0)}_{\\sigma\\lambda, \\sigma'\\lambda'}(zt, z't')\n",
    "\t\\mathcal{G}^{(0)}_{s' r'}(w' t_1, v' t_2)\n",
    "\t\\mathcal{G}^{(0)}_{rl, st}(v t_2, w t_1)\n",
    "\t- \\\\[5pt]\n",
    "\t%\n",
    "\t& -\t\n",
    "\t\\mathcal{G}^{(0)}_{\\sigma\\lambda, st}(zt, w t_1)\n",
    "\t\\mathcal{G}^{(0)}_{s',r'}(w' t_1, v' t_2)\n",
    "\t\\mathcal{G}^{(0)}_{rl, \\sigma'\\lambda'}(v t_2, z't')\n",
    "\t\\Bigr\\} \\,,\n",
    "\\end{split}\n",
    "$$\n",
    "which we expressed in terms of the *unperturbed* Green's function $\\mathcal{G}^{(0)}_{\\sigma\\lambda, \\sigma'\\lambda'}(zt,z't')$ in the MTI and the *unperturbed* Green's function $\\mathcal{G}^{(0)}_{\\sigma, \\sigma'}(zt,z't')$ in the SC.\n",
    "The corresponding Feynman diagrams are plotted in the picture below:"
   ]
  },
  {
   "cell_type": "markdown",
   "id": "b2bf126e-61e1-4e54-862e-5de4d623a4dd",
   "metadata": {},
   "source": [
    "<p style=\"text-align:center;\">\n",
    "<img src=\"Correction_NormalGF.png\" width=85% height=85% class=\"center\" />\n",
    "</p>"
   ]
  },
  {
   "cell_type": "markdown",
   "id": "5d05b735-ea33-4244-ae1d-8a29ed3c780b",
   "metadata": {},
   "source": [
    "Since the first one is a disconnected diagram, we can neglect it and the second-order correction to the normal MTI Green's function is thus given by\n",
    "$$\n",
    "\\begin{split}\n",
    "\t\\mathcal{G}^{(2)}_{\\sigma\\lambda, \\sigma'\\lambda'}(zt,z't') \n",
    "\t=\n",
    "\t-\\sum_{ss't} \\sum_{rr'l}\n",
    "\t& \\int dt_1 \\, dt_2 \\, \\int dw \\, dw' \\, \\int dv \\, dv' \\,\n",
    "\t\\gamma_{st}^{s'}(w,w') \\gamma_{rl}^{r' \\, \\dagger}(v',v) \\times \\\\[5pt]\n",
    "\t%\n",
    "\t& \\times\n",
    "\t\\Bigl\\{\n",
    "\t\\mathcal{G}^{(0)}_{\\sigma\\lambda, st}(zt, w t_1)\n",
    "\t\\mathcal{G}^{(0)}_{s',r'}(w' t_1, v' t_2)\n",
    "\t\\mathcal{G}^{(0)}_{rl, \\sigma'\\lambda'}(v t_2, z't')\n",
    "\t\\Bigr\\} \\,.\n",
    "\\end{split}\n",
    "$$"
   ]
  },
  {
   "cell_type": "markdown",
   "id": "c6f715f1-fae6-4c0b-9505-f10e1f122bc5",
   "metadata": {},
   "source": [
    "#### <font> Tunneling </font> \n",
    "We assume that the tunneling term is given by\n",
    "$$\n",
    "    \\gamma_{\\sigma\\lambda}^{\\sigma'}(z,z') = \\gamma \\delta_{\\sigma\\sigma'} \\delta(z-z') f(z) \\,,\n",
    "$$\n",
    "where $\\lambda$ characterizes the interface cleanliness and we assumed that \n",
    "\n",
    "the spatial dependence of the tunneling can be assumed as a Gaussian centered at the interface $z=d$ between the SC and the MTI \n",
    "$$\n",
    "    f(z) = \\exp \n",
    "    \\Biggl\\lbrack -\\frac{(z-d)}{2 \\lambda_{tun}^2} \\Biggr\\rbrack \\,.\n",
    "$$"
   ]
  },
  {
   "cell_type": "code",
   "execution_count": 6,
   "id": "fe396f4d-79bc-4ffc-aaf4-48daeb833eb0",
   "metadata": {},
   "outputs": [],
   "source": [
    "import numpy as np\n",
    "\n",
    "from GreenFunctions_MTI import GFexact\n",
    "from GreenFunctions_SC import GFnormal, GFanomalous\n",
    "\n",
    "# Hamiltonian parameters\n",
    "params=dict(C = -0.0068, D1 = 1.3, D2 = 19.6, A1 = 2.2, A2 = 4.1, M = 0.28, B1 = 10, B2 = 56.6)\n",
    "\n",
    "# function for tunneling amplitude \n",
    "def spatial_tunneling(z, d, lT):\n",
    "\n",
    "    return np.exp( -(z-d)**2/(2*lT**2) )"
   ]
  },
  {
   "cell_type": "markdown",
   "id": "001dd953-31f3-4aed-9725-cd346cfe057b",
   "metadata": {},
   "source": [
    "#### <font color='green'> **Plot** </font> \n",
    "\n",
    "Below, we plot the tunneling amplitude as a function of the $z$ coordinate."
   ]
  },
  {
   "cell_type": "code",
   "execution_count": 30,
   "id": "e634e15c-813b-4b2e-9bf5-47ee837b3aed",
   "metadata": {},
   "outputs": [
    {
     "data": {
      "image/png": "[encoded data removed]",
      "text/plain": [
       "<Figure size 800x600 with 1 Axes>"
      ]
     },
     "metadata": {},
     "output_type": "display_data"
    }
   ],
   "source": [
    "import matplotlib.pyplot as plt\n",
    "from matplotlib.pyplot import cm\n",
    "\n",
    "# parameters\n",
    "d = 100.; lT = 0.05*d; lim = 6*lT\n",
    "\n",
    "Z = np.linspace(d-lim, d+lim, 250)\n",
    "# tunneling amplitude\n",
    "fz = [spatial_tunneling(z, d, lT) for z in Z]\n",
    "\n",
    "# figure\n",
    "fig, ax = plt.subplots(figsize=(8, 6))\n",
    "# plot tunneling amplituede\n",
    "ax.plot(Z, fz, c='black', lw=2)\n",
    "# plot line at the interface\n",
    "ax.axvline(x=d, c='black', ls='dashed')\n",
    "\n",
    "ax.set_xlim(d-lim, d+lim)\n",
    "ax.set_xlabel(\"$z$\", fontsize = 17)\n",
    "ax.set_ylabel(\"$f(z)$\", fontsize = 17)\n",
    "ax.tick_params(axis='both', which='major', labelsize=14);"
   ]
  },
  {
   "cell_type": "markdown",
   "id": "ffcee9c9-cb40-4118-9bcc-756d8aa631dd",
   "metadata": {},
   "source": [
    "## **Anomalous Green's Function**"
   ]
  },
  {
   "cell_type": "markdown",
   "id": "1e104414-ee1f-46c3-8cf0-8490db1bbf9a",
   "metadata": {},
   "source": [
    "<p style=\"text-align:center;\">\n",
    "<img src=\"Correction_AnomalousGF.png\" width=85% height=85% class=\"center\" />\n",
    "</p>"
   ]
  },
  {
   "cell_type": "code",
   "execution_count": null,
   "id": "0a169a8c-14f7-4391-889b-169976ac7cb4",
   "metadata": {},
   "outputs": [],
   "source": []
  }
 ],
 "metadata": {
  "kernelspec": {
   "display_name": "Python 3 (ipykernel)",
   "language": "python",
   "name": "python3"
  },
  "language_info": {
   "codemirror_mode": {
    "name": "ipython",
    "version": 3
   },
   "file_extension": ".py",
   "mimetype": "text/x-python",
   "name": "python",
   "nbconvert_exporter": "python",
   "pygments_lexer": "ipython3",
   "version": "3.10.12"
  }
 },
 "nbformat": 4,
 "nbformat_minor": 5
}
