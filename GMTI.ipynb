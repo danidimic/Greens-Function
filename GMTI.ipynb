{
 "cells": [
  {
   "cell_type": "markdown",
   "id": "9bf76be6-6839-4591-bd92-e6ffd603753f",
   "metadata": {},
   "source": [
    "# Comparison Between Methods\n",
    "\n",
    "We compare here the results obtained for the unperturbed Green's function in the MTI.\n",
    "In the following, we refer to:\n",
    "\n",
    "- i. *exact* solution, meaning the Green's function obtained by solving the system of coupled differential equations;\n",
    "\n",
    "- ii. *approximated* solution, referring to the numerical solution obtained as a sum of wavefunctions and eigenenergies computed discretizing the MTI Hamiltonian on a finite lattice along $z$.\n"
   ]
  },
  {
   "cell_type": "code",
   "execution_count": 1,
   "id": "ef65db31-6586-4a4c-8c2c-fcde0f07606b",
   "metadata": {},
   "outputs": [],
   "source": [
    "import nbimporter\n",
    "import numpy as np\n",
    "\n",
    "from GMTI_Numerical import GF as GFexact\n",
    "from HMTI_Discretized import GF as GFapprox\n",
    "\n",
    "GFexact(d=100., z=5., Z=78., kx=0., ky=0., L=0., w=0.01);\n",
    "\n",
    "# Hamiltonian parameters\n",
    "params=dict(C = -0.0068, D1 = 1.3, D2 = 19.6, A1 = 2.2, A2 = 4.1, M = 0.28, B1 = 10, B2 = 56.6)"
   ]
  },
  {
   "cell_type": "raw",
   "id": "f4d50363-6b1f-40ce-b32c-c5ddee10ddde",
   "metadata": {},
   "source": [
    "# z and z' coordinates\n",
    "z = 191; Z = 35\n",
    "# lattice\n",
    "Nlat = 250; d = 100.; dZ = d/(Nlat-1)\n",
    "# eigenstates\n",
    "#lattice, egval, spinors = eigensates(Nlat=Nlat, dZ=dZ, kx=0., ky=0., L=0., Neig=900)\n",
    "\n",
    "# number of states for loop \n",
    "Nstates = np.arange(20,901,10)\n",
    "# compute Green's function versus n\n",
    "gf = np.array([ GF(Nstates=n, z=z, Z=Z, kx=0., ky=0., L=0., w=0.01, egval=egval, spinors=spinors) for n in Nstates ]"
   ]
  }
 ],
 "metadata": {
  "kernelspec": {
   "display_name": "Python 3 (ipykernel)",
   "language": "python",
   "name": "python3"
  },
  "language_info": {
   "codemirror_mode": {
    "name": "ipython",
    "version": 3
   },
   "file_extension": ".py",
   "mimetype": "text/x-python",
   "name": "python",
   "nbconvert_exporter": "python",
   "pygments_lexer": "ipython3",
   "version": "3.10.12"
  }
 },
 "nbformat": 4,
 "nbformat_minor": 5
}
